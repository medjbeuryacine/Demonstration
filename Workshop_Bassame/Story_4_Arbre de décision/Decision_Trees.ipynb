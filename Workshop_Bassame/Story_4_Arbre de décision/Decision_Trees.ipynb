{
 "cells": [
  {
   "cell_type": "markdown",
   "id": "9ff8db5d-c915-44fb-99b6-08aab33473de",
   "metadata": {},
   "source": [
    "# 1.10.8. Missing Values Support"
   ]
  },
  {
   "cell_type": "code",
   "execution_count": 36,
   "id": "b372ca48-1489-4d7b-9061-9b89bf9432dc",
   "metadata": {},
   "outputs": [
    {
     "data": {
      "text/plain": [
       "array([0, 0, 1, 1])"
      ]
     },
     "execution_count": 36,
     "metadata": {},
     "output_type": "execute_result"
    }
   ],
   "source": [
    "from sklearn.tree import DecisionTreeClassifier\n",
    "import numpy as np\n",
    "import matplotlib.pyplot as plt\n",
    "x = np.array([0, 1, 6, np.nan]).reshape(-1,1)\n",
    "y = np.array([0, 0, 1, 1])\n",
    "\n",
    "tree = DecisionTreeClassifier(random_state=0)\n",
    "tree.fit(x, y)\n",
    "x.shape, y.shape\n",
    "tree.predict(x)"
   ]
  },
  {
   "cell_type": "code",
   "execution_count": 20,
   "id": "18efe9c8-b83f-4ef6-815b-50b618435367",
   "metadata": {},
   "outputs": [
    {
     "data": {
      "text/plain": [
       "array([1])"
      ]
     },
     "execution_count": 20,
     "metadata": {},
     "output_type": "execute_result"
    }
   ],
   "source": [
    "from sklearn.tree import DecisionTreeClassifier\n",
    "import numpy as np\n",
    "\n",
    "x = np.array([np.nan, -1, np.nan, 1]).reshape(-1, 1)\n",
    "y = [0, 0, 1, 1]\n",
    "\n",
    "tree = DecisionTreeClassifier(random_state=0)\n",
    "tree.fit(x, y)\n",
    "X_test = np.array([np.nan]).reshape(-1, 1)\n",
    "tree.predict(X_test)"
   ]
  },
  {
   "cell_type": "code",
   "execution_count": 42,
   "id": "c83b38dd-b537-4e81-ab48-cdd9c6627cd5",
   "metadata": {},
   "outputs": [
    {
     "data": {
      "text/plain": [
       "array([1])"
      ]
     },
     "execution_count": 42,
     "metadata": {},
     "output_type": "execute_result"
    }
   ],
   "source": [
    "from sklearn.tree import DecisionTreeClassifier\n",
    "import numpy as np\n",
    "\n",
    "x = np.array([0, 1, 2, 3]).reshape(-1, 1)\n",
    "y = [0, 1, 1, 1]\n",
    "\n",
    "tree = DecisionTreeClassifier(random_state=0).fit(x, y)\n",
    "\n",
    "X_test = np.array([np.nan]).reshape(-1, 1)\n",
    "tree.predict(X_test)"
   ]
  },
  {
   "cell_type": "code",
   "execution_count": null,
   "id": "f4503565-5d16-4305-a83c-8ebc428a3a0a",
   "metadata": {},
   "outputs": [],
   "source": []
  }
 ],
 "metadata": {
  "kernelspec": {
   "display_name": "Python 3 (ipykernel)",
   "language": "python",
   "name": "python3"
  },
  "language_info": {
   "codemirror_mode": {
    "name": "ipython",
    "version": 3
   },
   "file_extension": ".py",
   "mimetype": "text/x-python",
   "name": "python",
   "nbconvert_exporter": "python",
   "pygments_lexer": "ipython3",
   "version": "3.12.4"
  }
 },
 "nbformat": 4,
 "nbformat_minor": 5
}
