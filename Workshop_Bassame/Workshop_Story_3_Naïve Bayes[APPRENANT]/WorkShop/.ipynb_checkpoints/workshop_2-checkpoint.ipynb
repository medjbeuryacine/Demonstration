{
 "cells": [
  {
   "cell_type": "code",
   "execution_count": 9,
   "id": "11753114-d49b-404a-87f8-b068999dc78c",
   "metadata": {},
   "outputs": [
    {
     "name": "stdout",
     "output_type": "stream",
     "text": [
      "['SPAM' 'HAM']\n"
     ]
    }
   ],
   "source": [
    "# Importation des bibliothèques nécessaires\n",
    "import os  # Pour travailler avec le système de fichiers (lister les fichiers, gérer les chemins)\n",
    "import io  # Pour lire les fichiers texte avec un encodage spécifique\n",
    "import pandas as pd  # Pour manipuler les données sous forme de DataFrame\n",
    "from sklearn.feature_extraction.text import CountVectorizer  # Pour convertir les textes en vecteurs de caractéristiques\n",
    "from sklearn.naive_bayes import MultinomialNB  # Classificateur Naïve Bayes pour classification de texte\n",
    "\n",
    "# Définition des chemins vers les répertoires contenant les emails\n",
    "PATH_TO_HAM_DIR = \"C:\\\\emails\\\\ham\"  # Chemin vers les emails non-spam (ham)\n",
    "PATH_TO_SPAM_DIR = \"C:\\\\emails\\\\spam\"  # Chemin vers les emails spam\n",
    "\n",
    "# Définition des étiquettes pour les types de messages\n",
    "SPAM_TYPE = \"SPAM\"  # Étiquette pour les messages spam\n",
    "HAM_TYPE = \"HAM\"    # Étiquette pour les messages non-spam (ham)\n",
    "\n",
    "# Définition des listes pour stocker les données d'entrée (X) et les étiquettes (Y)\n",
    "X = []  # Liste pour stocker les corps des emails\n",
    "Y = []  # Liste pour stocker les étiquettes (spam ou ham)\n",
    "\n",
    "\n",
    "def readFilesFromDirectory(path, classification):\n",
    "    \"\"\"\n",
    "    Fonction pour lire les fichiers d'un répertoire et extraire leur contenu.\n",
    "    Cette fonction remplit les listes X et Y avec le contenu des emails et leurs classifications.\n",
    "    \"\"\"\n",
    "    files_name = os.listdir(path)  # Liste des noms de fichiers dans le répertoire spécifié\n",
    "    for current_file in files_name:\n",
    "        # Construction du chemin complet vers le fichier\n",
    "        message = extract_mail_body(os.path.join(path, current_file))  # Extraction du contenu du fichier\n",
    "        X.append(message)  # Ajout du contenu à la liste X\n",
    "        Y.append(classification)  # Ajout de la classification (ham ou spam) à la liste Y\n",
    "       \n",
    "           \n",
    "def extract_mail_body(file_name_str):\n",
    "    \"\"\"\n",
    "    Fonction pour extraire le corps du message à partir d'un fichier email.\n",
    "    Cette fonction ignore les en-têtes des emails et ne garde que le corps du message.\n",
    "    \"\"\"\n",
    "    inBody = False  # Indicateur pour savoir si on est dans le corps du message\n",
    "    lines = []  # Liste pour stocker les lignes du corps du message\n",
    "    # Ouverture du fichier en mode lecture avec l'encodage 'latin1'\n",
    "    with io.open(file_name_str, 'r', encoding='latin1') as file_descriptor:\n",
    "        for line in file_descriptor:\n",
    "            if inBody:  # Si on est déjà dans le corps du message\n",
    "                lines.append(line)  # Ajouter la ligne au corps du message\n",
    "            elif line == '\\n':  # Si une ligne vide est rencontrée (fin des en-têtes)\n",
    "                inBody = True  # Indiquer qu'on commence à lire le corps du message\n",
    "    message = ''.join(lines)  # Combiner les lignes en une seule chaîne de texte\n",
    "    return message  # Retourner le corps du message\n",
    "\n",
    "# Chargement des emails depuis les répertoires 'ham' et 'spam'\n",
    "readFilesFromDirectory(PATH_TO_HAM_DIR, HAM_TYPE)  # Charger les emails ham (non-spam)\n",
    "readFilesFromDirectory(PATH_TO_SPAM_DIR, SPAM_TYPE)  # Charger les emails spam\n",
    "\n",
    "# Création d'un DataFrame pour stocker les données d'entraînement\n",
    "training_set = pd.DataFrame({'X': X, 'Y': Y})  # DataFrame avec les emails (X) et leurs étiquettes (Y)\n",
    "\n",
    "# Transformation des emails en vecteurs de caractéristiques (compte des mots dans les emails)\n",
    "vectorizer = CountVectorizer()  # Initialisation du CountVectorizer pour la vectorisation de texte\n",
    "counts = vectorizer.fit_transform(training_set['X'].values)  # Apprentissage du vocabulaire et transformation des emails\n",
    "\n",
    "# Création du classificateur Naïve Bayes pour la classification\n",
    "classifier = MultinomialNB()  # Initialisation du classificateur Naïve Bayes\n",
    "targets = training_set['Y'].values  # Les étiquettes des emails (ham ou spam)\n",
    "classifier.fit(counts, targets)  # Entraînement du classificateur avec les données vectorisées et les étiquettes\n",
    "\n",
    "# Exemple de prédictions sur de nouveaux emails\n",
    "exemples = ['Free Viagra now!!!', \"Hi Bob, how about a game of golf tomorrow?\"]  # Exemple d'emails à classer\n",
    "exemple_counts = vectorizer.transform(examples)  # Transformation des exemples en vecteurs de caractéristiques\n",
    "predictions = classifier.predict(example_counts)  # Prédiction des classes (spam ou ham) pour les exemples\n",
    "\n",
    "# Affichage des prédictions\n",
    "print(predictions)  # Affichage des résultats des prédictions (SPAM ou HAM)"
   ]
  },
  {
   "cell_type": "code",
   "execution_count": null,
   "id": "e05ded05-5b4d-457b-b967-9a537e34cbbd",
   "metadata": {},
   "outputs": [],
   "source": []
  }
 ],
 "metadata": {
  "kernelspec": {
   "display_name": "Python 3 (ipykernel)",
   "language": "python",
   "name": "python3"
  },
  "language_info": {
   "codemirror_mode": {
    "name": "ipython",
    "version": 3
   },
   "file_extension": ".py",
   "mimetype": "text/x-python",
   "name": "python",
   "nbconvert_exporter": "python",
   "pygments_lexer": "ipython3",
   "version": "3.12.4"
  }
 },
 "nbformat": 4,
 "nbformat_minor": 5
}
