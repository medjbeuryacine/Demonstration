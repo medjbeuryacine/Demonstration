{
 "cells": [
  {
   "cell_type": "code",
   "execution_count": 1,
   "id": "11753114-d49b-404a-87f8-b068999dc78c",
   "metadata": {},
   "outputs": [
    {
     "ename": "PermissionError",
     "evalue": "[Errno 13] Permission denied: 'C:\\\\Users\\\\yacine.medjbeur\\\\Documents\\\\GitHub\\\\yacine.medjbeur\\\\Workshop_Story_3_Naïve Bayes[APPRENANT]\\\\WorkShop\\\\emails\\\\ham\\\\.ipynb_checkpoints'",
     "output_type": "error",
     "traceback": [
      "\u001b[1;31m---------------------------------------------------------------------------\u001b[0m",
      "\u001b[1;31mPermissionError\u001b[0m                           Traceback (most recent call last)",
      "Cell \u001b[1;32mIn[1], line 43\u001b[0m\n\u001b[0;32m     40\u001b[0m     \u001b[38;5;28;01mreturn\u001b[39;00m message\n\u001b[0;32m     42\u001b[0m \u001b[38;5;66;03m# Chargement des mails (d'abord les ham, ensuite les spam)\u001b[39;00m\n\u001b[1;32m---> 43\u001b[0m \u001b[43mreadFilesFromDirectory\u001b[49m\u001b[43m(\u001b[49m\u001b[43mPATH_TO_HAM_DIR\u001b[49m\u001b[43m,\u001b[49m\u001b[43m \u001b[49m\u001b[43mHAM_TYPE\u001b[49m\u001b[43m)\u001b[49m\n\u001b[0;32m     44\u001b[0m readFilesFromDirectory(PATH_TO_SPAM_DIR, SPAM_TYPE)\n\u001b[0;32m     46\u001b[0m \u001b[38;5;66;03m# Création du DataFrame pour l'entraînement\u001b[39;00m\n",
      "Cell \u001b[1;32mIn[1], line 24\u001b[0m, in \u001b[0;36mreadFilesFromDirectory\u001b[1;34m(path, classification)\u001b[0m\n\u001b[0;32m     21\u001b[0m files_name \u001b[38;5;241m=\u001b[39m os\u001b[38;5;241m.\u001b[39mlistdir(path)\n\u001b[0;32m     22\u001b[0m \u001b[38;5;28;01mfor\u001b[39;00m current_file \u001b[38;5;129;01min\u001b[39;00m files_name:\n\u001b[0;32m     23\u001b[0m     \u001b[38;5;66;03m# Nous devons assurer que nous ouvrons bien le fichier\u001b[39;00m\n\u001b[1;32m---> 24\u001b[0m     message \u001b[38;5;241m=\u001b[39m \u001b[43mextract_mail_body\u001b[49m\u001b[43m(\u001b[49m\u001b[43mos\u001b[49m\u001b[38;5;241;43m.\u001b[39;49m\u001b[43mpath\u001b[49m\u001b[38;5;241;43m.\u001b[39;49m\u001b[43mjoin\u001b[49m\u001b[43m(\u001b[49m\u001b[43mpath\u001b[49m\u001b[43m,\u001b[49m\u001b[43m \u001b[49m\u001b[43mcurrent_file\u001b[49m\u001b[43m)\u001b[49m\u001b[43m)\u001b[49m\n\u001b[0;32m     25\u001b[0m     X\u001b[38;5;241m.\u001b[39mappend(message)\n\u001b[0;32m     26\u001b[0m     Y\u001b[38;5;241m.\u001b[39mappend(classification)\n",
      "Cell \u001b[1;32mIn[1], line 33\u001b[0m, in \u001b[0;36mextract_mail_body\u001b[1;34m(file_name_str)\u001b[0m\n\u001b[0;32m     31\u001b[0m inBody \u001b[38;5;241m=\u001b[39m \u001b[38;5;28;01mFalse\u001b[39;00m\n\u001b[0;32m     32\u001b[0m lines \u001b[38;5;241m=\u001b[39m []\n\u001b[1;32m---> 33\u001b[0m \u001b[38;5;28;01mwith\u001b[39;00m \u001b[43mio\u001b[49m\u001b[38;5;241;43m.\u001b[39;49m\u001b[43mopen\u001b[49m\u001b[43m(\u001b[49m\u001b[43mfile_name_str\u001b[49m\u001b[43m,\u001b[49m\u001b[43m \u001b[49m\u001b[38;5;124;43m'\u001b[39;49m\u001b[38;5;124;43mr\u001b[39;49m\u001b[38;5;124;43m'\u001b[39;49m\u001b[43m,\u001b[49m\u001b[43m \u001b[49m\u001b[43mencoding\u001b[49m\u001b[38;5;241;43m=\u001b[39;49m\u001b[38;5;124;43m'\u001b[39;49m\u001b[38;5;124;43mlatin1\u001b[39;49m\u001b[38;5;124;43m'\u001b[39;49m\u001b[43m)\u001b[49m \u001b[38;5;28;01mas\u001b[39;00m file_descriptor:\n\u001b[0;32m     34\u001b[0m     \u001b[38;5;28;01mfor\u001b[39;00m line \u001b[38;5;129;01min\u001b[39;00m file_descriptor:\n\u001b[0;32m     35\u001b[0m         \u001b[38;5;28;01mif\u001b[39;00m inBody:\n",
      "\u001b[1;31mPermissionError\u001b[0m: [Errno 13] Permission denied: 'C:\\\\Users\\\\yacine.medjbeur\\\\Documents\\\\GitHub\\\\yacine.medjbeur\\\\Workshop_Story_3_Naïve Bayes[APPRENANT]\\\\WorkShop\\\\emails\\\\ham\\\\.ipynb_checkpoints'"
     ]
    }
   ],
   "source": [
    "import os\n",
    "import io\n",
    "import pandas as pd\n",
    "from sklearn.feature_extraction.text import CountVectorizer\n",
    "from sklearn.naive_bayes import MultinomialNB\n",
    "\n",
    "# Quelques variables globales utiles\n",
    "PATH_TO_HAM_DIR = r\"C:\\Users\\yacine.medjbeur\\Documents\\GitHub\\yacine.medjbeur\\Workshop_Story_3_Naïve Bayes[APPRENANT]\\WorkShop\\emails\\ham\"\n",
    "PATH_TO_SPAM_DIR = r\"C:\\Users\\yacine.medjbeur\\Documents\\GitHub\\yacine.medjbeur\\Workshop_Story_3_Naïve Bayes[APPRENANT]\\WorkShop\\emails\\spam\"\n",
    "\n",
    "SPAM_TYPE = \"SPAM\"\n",
    "HAM_TYPE = \"HAM\"\n",
    "\n",
    "# Les tableaux X et Y seront de la même taille et ordonnés\n",
    "X = []  # Représente l'input Data (ici les mails)\n",
    "Y = []  # Les étiquettes (labels) pour le training set\n",
    "\n",
    "\n",
    "def readFilesFromDirectory(path, classification):\n",
    "    \"\"\"Fonction pour lire les fichiers depuis un répertoire\"\"\"\n",
    "    files_name = os.listdir(path)\n",
    "    for current_file in files_name:\n",
    "        # Nous devons assurer que nous ouvrons bien le fichier\n",
    "        message = extract_mail_body(os.path.join(path, current_file))\n",
    "        X.append(message)\n",
    "        Y.append(classification)\n",
    "       \n",
    "           \n",
    "def extract_mail_body(file_name_str):\n",
    "    \"\"\"Extraction du corps du mail (on ignore les entêtes)\"\"\"\n",
    "    inBody = False\n",
    "    lines = []\n",
    "    with io.open(file_name_str, 'r', encoding='latin1') as file_descriptor:\n",
    "        for line in file_descriptor:\n",
    "            if inBody:\n",
    "                lines.append(line)\n",
    "            elif line == '\\n':\n",
    "                inBody = True\n",
    "    message = ''.join(lines)\n",
    "    return message\n",
    "\n",
    "# Chargement des mails (d'abord les ham, ensuite les spam)\n",
    "readFilesFromDirectory(PATH_TO_HAM_DIR, HAM_TYPE)\n",
    "readFilesFromDirectory(PATH_TO_SPAM_DIR, SPAM_TYPE)\n",
    "\n",
    "# Création du DataFrame pour l'entraînement\n",
    "training_set = pd.DataFrame({'X': X, 'Y': Y})\n",
    "\n",
    "# Conversion des mails en vecteurs de caractéristiques\n",
    "vectorizer = CountVectorizer()\n",
    "counts = vectorizer.fit_transform(training_set['X'].values)\n",
    "\n",
    "# Création du classificateur Naïve Bayes\n",
    "classifier = MultinomialNB()\n",
    "targets = training_set['Y'].values\n",
    "classifier.fit(counts, targets)\n",
    "\n",
    "# Exemple de prédictions avec de nouveaux exemples\n",
    "examples = ['Free Viagra now!!!', \"Hi Bob, how about a game of golf tomorrow?\"]\n",
    "example_counts = vectorizer.transform(examples)\n",
    "predictions = classifier.predict(example_counts)\n",
    "\n",
    "# Affichage des prédictions\n",
    "print(predictions)\n"
   ]
  },
  {
   "cell_type": "code",
   "execution_count": null,
   "id": "e05ded05-5b4d-457b-b967-9a537e34cbbd",
   "metadata": {},
   "outputs": [],
   "source": []
  }
 ],
 "metadata": {
  "kernelspec": {
   "display_name": "Python 3",
   "language": "python",
   "name": "python3"
  },
  "language_info": {
   "codemirror_mode": {
    "name": "ipython",
    "version": 3
   },
   "file_extension": ".py",
   "mimetype": "text/x-python",
   "name": "python",
   "nbconvert_exporter": "python",
   "pygments_lexer": "ipython3",
   "version": "3.12.2"
  }
 },
 "nbformat": 4,
 "nbformat_minor": 5
}
