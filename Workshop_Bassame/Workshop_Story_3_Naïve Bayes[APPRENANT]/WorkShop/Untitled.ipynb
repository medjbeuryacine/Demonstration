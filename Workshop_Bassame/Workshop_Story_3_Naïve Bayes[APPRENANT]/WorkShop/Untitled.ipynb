{
 "cells": [
  {
   "cell_type": "code",
   "execution_count": 1,
   "id": "28714c47-b3cc-468b-8c3a-543aa77edf19",
   "metadata": {},
   "outputs": [],
   "source": [
    "import numpy as np\n",
    "import matplotlib.pyplot as plt\n",
    "import pandas as pd\n",
    "import seaborn as sns"
   ]
  },
  {
   "cell_type": "code",
   "execution_count": 109,
   "id": "bbdf1844-6e44-43c6-8f78-184e278f5859",
   "metadata": {},
   "outputs": [],
   "source": [
    "# importing the dataset\n",
    "dataset = pd.read_csv('NaiveBayes.csv')\n",
    "# split the data into inputs and outputs\n",
    "x = dataset.iloc[:,0:2].values\n",
    "y = dataset.iloc[:, 2].values"
   ]
  },
  {
   "cell_type": "code",
   "execution_count": 190,
   "id": "69737b2b-2fe8-4c92-ba35-62d6b49c1a6c",
   "metadata": {},
   "outputs": [],
   "source": [
    "# Entrainer et tester le data\n",
    "from sklearn.model_selection import train_test_split\n",
    "# 25% pour la partie test et 75% pour l'entrainement \n",
    "X_train, X_test, y_train, y_test =train_test_split(x,y,test_size= 0.25, random_state=0)"
   ]
  },
  {
   "cell_type": "code",
   "execution_count": 192,
   "id": "1b4bf374-b93b-423b-a29f-e318eff73fe2",
   "metadata": {},
   "outputs": [],
   "source": [
    "# importing standard scaler\n",
    "from sklearn.preprocessing import StandardScaler\n",
    "# Créer un StandardScaler\n",
    "sc_X = StandardScaler()\n",
    "# Transformer l'ensemble d'entraînement\n",
    "X_train = sc_X.fit_transform(X_train)\n",
    "# Transformer l'ensemble de test en utilisant les paramètres calculés sur l'entraînement\n",
    "X_test = sc_X.transform(X_test)\n",
    "#fit_transform : facilite la préparation des données pour l'apprentissage automatique."
   ]
  },
  {
   "cell_type": "code",
   "execution_count": 194,
   "id": "f4dcabe8-1d32-4e2c-937e-9d4c364c6edb",
   "metadata": {},
   "outputs": [],
   "source": [
    "# importer le classifieur\n",
    "from sklearn.naive_bayes import BernoulliNB\n",
    "# initialiser le classificateur NB\n",
    "classifieur = BernoulliNB()\n",
    "# entrainer le modèle\n",
    "classifieur.fit(X_train, y_train)\n",
    "# tester le modèle\n",
    "y_pred = classifieur.predict(X_test)"
   ]
  },
  {
   "cell_type": "code",
   "execution_count": 196,
   "id": "9304376b-34f1-401b-b850-3dac8d606a37",
   "metadata": {},
   "outputs": [
    {
     "name": "stdout",
     "output_type": "stream",
     "text": [
      "0.79\n"
     ]
    }
   ],
   "source": [
    "# importer accuracy score\n",
    "from sklearn.metrics import accuracy_score\n",
    "# calculer et afficher la précision du modèle de classification.\n",
    "print(accuracy_score(y_pred, y_test))"
   ]
  },
  {
   "cell_type": "code",
   "execution_count": 202,
   "id": "7b65582a-ce8e-46ef-808b-17aba78e0a99",
   "metadata": {},
   "outputs": [],
   "source": [
    "# import Gaussian Naive Bayes classifier\n",
    "from sklearn.naive_bayes import GaussianNB\n",
    "# create a Gaussian Classifier\n",
    "classifieur1 = GaussianNB()\n",
    "# training the model\n",
    "classifieur1.fit(X_train, y_train)\n",
    "# testing the model\n",
    "y_pred1 = classifieur1.predict(X_test)"
   ]
  },
  {
   "cell_type": "code",
   "execution_count": 204,
   "id": "e6bc853c-f900-436d-9d9a-2b591d8a92cc",
   "metadata": {},
   "outputs": [
    {
     "name": "stdout",
     "output_type": "stream",
     "text": [
      "0.9\n"
     ]
    }
   ],
   "source": [
    "# importing accuracy score\n",
    "from sklearn.metrics import accuracy_score\n",
    "# printing the accuracy of the model\n",
    "print(accuracy_score(y_test,y_pred1))"
   ]
  },
  {
   "cell_type": "code",
   "execution_count": null,
   "id": "c25e0633-858c-4ae2-bdc7-08417b5f4d51",
   "metadata": {},
   "outputs": [],
   "source": []
  }
 ],
 "metadata": {
  "kernelspec": {
   "display_name": "Python 3 (ipykernel)",
   "language": "python",
   "name": "python3"
  },
  "language_info": {
   "codemirror_mode": {
    "name": "ipython",
    "version": 3
   },
   "file_extension": ".py",
   "mimetype": "text/x-python",
   "name": "python",
   "nbconvert_exporter": "python",
   "pygments_lexer": "ipython3",
   "version": "3.12.4"
  }
 },
 "nbformat": 4,
 "nbformat_minor": 5
}
